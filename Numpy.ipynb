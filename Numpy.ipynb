{
  "nbformat": 4,
  "nbformat_minor": 0,
  "metadata": {
    "colab": {
      "provenance": []
    },
    "kernelspec": {
      "name": "python3",
      "display_name": "Python 3"
    }
  },
  "cells": [
    {
      "cell_type": "markdown",
      "metadata": {
        "collapsed": true,
        "id": "4VbNtUCVa9hn"
      },
      "source": [
        "# Numpy (Numerical Python)\n",
        "- 벡터 및 행렬 연산에 있어서 매우 편리한 기능을 제공\n",
        "- 빠르고 효율적인 벡터 산술연산을 제공하는 n 차원 배열 (ndarray)\n",
        "- 반복문 없이 전체 데이터 배열 연산이 가능한 표준 수학 함수 (sum(), sqrt(), mean())\n",
        "- 선형대수, 난수 생성, 푸리에 변환"
      ]
    },
    {
      "cell_type": "markdown",
      "metadata": {
        "id": "PKEIAPgaaYjK"
      },
      "source": [
        "## Numpy 기초\n"
      ]
    },
    {
      "cell_type": "code",
      "metadata": {
        "id": "yRpo3bf_aiy2"
      },
      "source": [
        "# Numpy 모듈(라이브러리)를 import하고 np 라는 이름으로 부르는 것이 관례\n",
        "import numpy as np"
      ],
      "execution_count": null,
      "outputs": []
    },
    {
      "cell_type": "code",
      "metadata": {
        "id": "XD9kSl4cbKnv"
      },
      "source": [
        "np.__version__"
      ],
      "execution_count": null,
      "outputs": []
    },
    {
      "cell_type": "markdown",
      "metadata": {
        "id": "EwbbaXIkbKMy"
      },
      "source": [
        "numpy.ndarray\n",
        "\n",
        "- 동일한 자료형을 가지는 값들이 배열 형태로 존재함\n",
        "- N 차원 형태로 구성이 가능하다.\n",
        "- 각 값들은 양의 정수로 색인(index)가 부여되어 있다.\n",
        "- Numpy에서 차원(Dimension)을 rank, axis라고 부르기도 한다.\n",
        "- ndarray를 줄여서 array로 표현한다.\n"
      ]
    },
    {
      "cell_type": "markdown",
      "metadata": {
        "id": "g1hWpxYolBGe"
      },
      "source": [
        "#### Numpy 예제 01\n",
        "Numpy를 이용해 다음과 같은 3차원 배열을 만들고 배열의 크기, 차원, 전체 요소 개수을 확인해보자\n",
        "```\n",
        "array([[[1,2],\n",
        "        [3,4]],\n",
        "        \n",
        "       [[5,6],\n",
        "        [7,8]]])\n",
        "```\n",
        "```\n",
        "배열의 크기: (2, 2, 2)\n",
        "배열의 차원: 3\n",
        "배열의 개수: 8\n",
        "```\n"
      ]
    },
    {
      "cell_type": "code",
      "metadata": {
        "id": "9tbuaoVE-OSO"
      },
      "source": [],
      "execution_count": null,
      "outputs": []
    },
    {
      "cell_type": "markdown",
      "metadata": {
        "id": "uwkaaf-8dLud"
      },
      "source": [
        "#### Numpy 예제 02\n",
        "1,2,3,....,50 이 담긴 배열을 생성하시오."
      ]
    },
    {
      "cell_type": "code",
      "metadata": {
        "id": "i7Hpj1la-ULj"
      },
      "source": [],
      "execution_count": null,
      "outputs": []
    },
    {
      "cell_type": "markdown",
      "source": [
        "#### Numpy 예제 03\n",
        "List와 numpy.ndarray에 각각 숫자를 2배씩 해 보는 방법은 무엇일까?  \n",
        "다음과 같은 리스트와 numpy.ndarray를 만들고 각 원소에 2를 곱하여 연산해 보자.  "
      ],
      "metadata": {
        "id": "RBCHV4Frsb92"
      }
    },
    {
      "cell_type": "code",
      "source": [
        "# List의 모든 원소를 2배로 만들기\n",
        "List1 = [1, 2, 3]\n",
        "List2 = []\n",
        "\n",
        "#pass"
      ],
      "metadata": {
        "id": "SukCQQR8s-vG"
      },
      "execution_count": null,
      "outputs": []
    },
    {
      "cell_type": "code",
      "source": [
        "# ndarray의 모든 원소 2배로 만들기\n",
        "Arr1 = np.array([1, 2, 3])\n",
        "\n",
        "#pass"
      ],
      "metadata": {
        "id": "qdWFk-Smti4-"
      },
      "execution_count": null,
      "outputs": []
    },
    {
      "cell_type": "markdown",
      "metadata": {
        "id": "xZy_t6sQHWzM"
      },
      "source": [
        "#### Numpy 예제 04\n",
        "\n",
        "BMI 구하기\n",
        "\n",
        "10명에 대한 키와 몸무게가 들어있는 파일 ‘height_weight.txt’을 읽어 각 사람별 BMI 지수를 구하시오.\n",
        "```\n",
        "data = np.loadtxt(drive_path + \"height_weight.txt\", delimiter = \",\") # delimiter : 구분자\n",
        "data\n",
        "```\n",
        "  \\\\( BMI지수=\\frac { 몸무게(kg) }{ 키(m) \\times 키(m) } \\\\)\n",
        "```\n",
        "# 제곱 계산\n",
        "# **2 or np.square()\n",
        "```"
      ]
    },
    {
      "cell_type": "code",
      "source": [],
      "metadata": {
        "id": "s28MW0Fboekm"
      },
      "execution_count": null,
      "outputs": []
    },
    {
      "cell_type": "markdown",
      "metadata": {
        "id": "KvMs00LYdYeH"
      },
      "source": [
        "#### Numpy 예제 05\n",
        "\n",
        "영화평점 데이터 분석"
      ]
    },
    {
      "cell_type": "markdown",
      "source": [
        "```\n",
        "data = np.loadtxt(drive_path + \"ratings_small.txt\",\n",
        "                  delimiter=\"::\", dtype=np.int64)\n",
        "data\n",
        "```"
      ],
      "metadata": {
        "id": "F92xMUfnonBN"
      }
    },
    {
      "cell_type": "code",
      "metadata": {
        "id": "vIYsPAMb-raO"
      },
      "source": [],
      "execution_count": null,
      "outputs": []
    },
    {
      "cell_type": "markdown",
      "metadata": {
        "id": "0u4drffYV294"
      },
      "source": [
        "##### 데이터 분석하기\n",
        "```\n",
        "print(data.ndim)\n",
        "print(data.shape)\n",
        "print(data.size)\n",
        "```"
      ]
    },
    {
      "cell_type": "code",
      "source": [],
      "metadata": {
        "id": "8CfZ6kTMoSFc"
      },
      "execution_count": null,
      "outputs": []
    },
    {
      "cell_type": "markdown",
      "metadata": {
        "id": "4555yr6wV-qB"
      },
      "source": [
        "##### 전체 평점 평균 구하기\n",
        "1. 평점 데이터만 추출 (인덱싱, 슬라이싱)\n",
        "2. 평균 구하기 (mean)"
      ]
    },
    {
      "cell_type": "code",
      "metadata": {
        "id": "bsI6QnTw-w2N"
      },
      "source": [],
      "execution_count": null,
      "outputs": []
    },
    {
      "cell_type": "markdown",
      "metadata": {
        "id": "NyWvFfFpWhXF"
      },
      "source": [
        "##### 각 사용자별 평점 평균 구하기\n",
        "1번 사용자의 평균 평점 구하기\n",
        "1. 1번 사용자의 데이터만 Boolean Indexing 추출\n",
        "2. 1번 사용자의 데이터에서 평점만 추출 (인덱싱, 슬라이싱)\n",
        "3. 평균 구하기\n",
        "\n",
        "참고\n",
        "```\n",
        "# 중복된 성분을 제외한 array를 반환\n",
        "np.unique( ndarray )\n",
        "```"
      ]
    },
    {
      "cell_type": "code",
      "metadata": {
        "id": "A-_eyxlD4efR"
      },
      "source": [],
      "execution_count": null,
      "outputs": []
    },
    {
      "cell_type": "code",
      "metadata": {
        "id": "CFGxQIME-z_s"
      },
      "source": [
        "# 1번 사용자의 데이터만 Boolean Indexing 추출\n"
      ],
      "execution_count": null,
      "outputs": []
    },
    {
      "cell_type": "code",
      "metadata": {
        "id": "WmOmXpI148aB"
      },
      "source": [
        "# 1번 사용자의 데이터에서 평점만 추출 (인덱싱, 슬라이싱)\n",
        "# 1번 사용자의 평균 구하기\n"
      ],
      "execution_count": null,
      "outputs": []
    },
    {
      "cell_type": "code",
      "metadata": {
        "id": "UrIGaui-59ep"
      },
      "source": [
        "# 1번 사용자의 평균 구하기\n"
      ],
      "execution_count": null,
      "outputs": []
    },
    {
      "cell_type": "code",
      "metadata": {
        "id": "l6vZ98px6YvS"
      },
      "source": [
        "# 각 사용자별 평점 평균\n"
      ],
      "execution_count": null,
      "outputs": []
    },
    {
      "cell_type": "markdown",
      "metadata": {
        "id": "Ewew5imqcJhc"
      },
      "source": [
        "##### 각 사용자 별 평균 평점이 4점 이상인 사용자 구하기\n",
        "- 리스트는 Boolean Indexing이 안되니 배열로 변환해야 인덱싱, 슬라이싱 가능"
      ]
    },
    {
      "cell_type": "code",
      "metadata": {
        "id": "xFK75MPR-1xk"
      },
      "source": [],
      "execution_count": null,
      "outputs": []
    },
    {
      "cell_type": "markdown",
      "metadata": {
        "id": "JGFR9J-ZeGfH"
      },
      "source": [
        "##### CSV 파일로 저장\n",
        "- np.savetxt() 이용"
      ]
    },
    {
      "cell_type": "code",
      "metadata": {
        "id": "-DTvy_Mo-5a2"
      },
      "source": [],
      "execution_count": null,
      "outputs": []
    }
  ]
}